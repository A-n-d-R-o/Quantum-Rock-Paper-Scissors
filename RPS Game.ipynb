{
 "cells": [
  {
   "cell_type": "code",
   "execution_count": null,
   "id": "3ffb44c8-dcff-47b0-a1b0-3135741a2045",
   "metadata": {},
   "outputs": [],
   "source": [
    "from qiskit import QuantumCircuit\n",
    "from qiskit_ibm_runtime import QiskitRuntimeService, SamplerV2 as Sampler\n",
    "from qiskit import transpile\n",
    "import numpy as np"
   ]
  },
  {
   "cell_type": "code",
   "execution_count": null,
   "id": "f621fb12-26cb-441e-808c-70cb3bc90512",
   "metadata": {},
   "outputs": [],
   "source": [
    "qc = QuantumCircuit(3)\n",
    "qc.ry(np.arccos(-1/3), 0)\n",
    "qc.ch(0, 1)\n",
    "qc.cx(1, 2)\n",
    "qc.cx(0, 1)\n",
    "qc.x(0)\n",
    "qc.measure_all()"
   ]
  },
  {
   "cell_type": "code",
   "execution_count": null,
   "id": "6e743697-e321-47f1-a811-8439fa1deb1b",
   "metadata": {},
   "outputs": [],
   "source": [
    "def play():\n",
    "    service = QiskitRuntimeService()\n",
    "    backend = service.least_busy(operational=True, simulator=False)\n",
    "    qc_transpiled = transpile(qc, backend)\n",
    "\n",
    "    sampler = Sampler(mode=backend)\n",
    "    job = sampler.run([qc_transpiled], shots=1)\n",
    "\n",
    "    job_instance = service.job(job.job_id())\n",
    "    result = job_instance.result()\n",
    "    count = result[0].data.meas.get_counts()\n",
    "\n",
    "    return count"
   ]
  },
  {
   "cell_type": "code",
   "execution_count": null,
   "id": "880f324c-91c3-4bad-b454-bc5733a80c9b",
   "metadata": {},
   "outputs": [],
   "source": [
    "def validation():\n",
    "    user_input = input('Rock, paper or scissors?: ').lower()\n",
    "\n",
    "    valid_options = {'rock', 'paper', 'scissors'}\n",
    "    \n",
    "    if user_input in valid_options:\n",
    "        return user_input\n",
    "    else:\n",
    "        print('Invalid input')\n",
    "        return validation()"
   ]
  },
  {
   "cell_type": "code",
   "execution_count": null,
   "id": "bffbaa59-ecf2-417b-af63-33c2bea58d34",
   "metadata": {},
   "outputs": [],
   "source": [
    "def qc_convert(choice):\n",
    "    if choice == {'001': 1}:\n",
    "        return 'rock'\n",
    "    elif choice == {'010': 1}:\n",
    "        return 'paper'\n",
    "    elif choice == {'100': 1}:\n",
    "        return 'scissors'\n",
    "    else:\n",
    "        return 'invalid'"
   ]
  },
  {
   "cell_type": "code",
   "execution_count": null,
   "id": "d81792df-666c-439b-a4ae-9f9c895b3b0c",
   "metadata": {},
   "outputs": [
    {
     "name": "stdin",
     "output_type": "stream",
     "text": [
      "Rock, paper or scissors?:  rock\n"
     ]
    },
    {
     "name": "stdout",
     "output_type": "stream",
     "text": [
      "YOU WIN: rock > scissors\n"
     ]
    }
   ],
   "source": [
    "u = validation()\n",
    "qc_play = play()\n",
    "q = qc_convert(qc_play)\n",
    "\n",
    "if u == q:\n",
    "    print(f'TIE: {u} = {q}')\n",
    "elif q == 'invalid':\n",
    "    print('QC THREW A ROGUE HAND: NO WINNER')\n",
    "elif (u == 'rock' and q == 'scissors') or (u == 'paper' and q == 'rock') or (u == 'scissors' and q == 'paper'):\n",
    "    print(f'YOU WIN: {u} > {q}')\n",
    "else:\n",
    "    print(f'YOU LOSE: {u} < {q}')"
   ]
  },
 ],
 "metadata": {
  "kernelspec": {
   "display_name": "Python 3 (ipykernel)",
   "language": "python",
   "name": "python3"
  },
  "language_info": {
   "codemirror_mode": {
    "name": "ipython",
    "version": 3
   },
   "file_extension": ".py",
   "mimetype": "text/x-python",
   "name": "python",
   "nbconvert_exporter": "python",
   "pygments_lexer": "ipython3",
   "version": "3.11.2"
  }
 },
 "nbformat": 4,
 "nbformat_minor": 5
}
