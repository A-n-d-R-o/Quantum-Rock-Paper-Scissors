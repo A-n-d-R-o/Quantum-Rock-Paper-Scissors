{
 "cells": [
  {
   "cell_type": "code",
   "execution_count": 111,
   "id": "5ad28a8a-0f3c-4c1d-a8c9-670314dbce91",
   "metadata": {},
   "outputs": [
    {
     "name": "stdin",
     "output_type": "stream",
     "text": [
      "Enter choice (rock, paper, scissors):  paper\n"
     ]
    },
    {
     "name": "stdout",
     "output_type": "stream",
     "text": [
      "\n",
      "You chose: Paper\n",
      "Quantum computer chose: Scissors\n",
      "\n",
      "YOU LOSE\n"
     ]
    }
   ],
   "source": [
    "# imports\n",
    "from qiskit import QuantumCircuit, transpile, assemble\n",
    "from qiskit_aer import AerSimulator\n",
    "import matplotlib.pyplot as plt\n",
    "import numpy as np\n",
    "\n",
    "def qc_shot():   \n",
    "    simulator = AerSimulator()\n",
    "    \n",
    "    while True:\n",
    "        # create circuit\n",
    "        qc = QuantumCircuit(2,2)\n",
    "        qc.h([0, 1])\n",
    "        qc.measure([0,1], [0,1])\n",
    "\n",
    "        # transpile circuit\n",
    "        compiled_circuit = transpile(qc, simulator)\n",
    "\n",
    "        # get result\n",
    "        result = simulator.run(compiled_circuit, shots=1).result()\n",
    "        counts = result.get_counts()\n",
    "        qc_result = int(list(counts.keys())[0], 2)\n",
    "        \n",
    "        # allow for only 3 results\n",
    "        if qc_result in [0, 1, 2]:\n",
    "            return qc_result\n",
    "\n",
    "def map_choice(choice):\n",
    "    if choice == 0:\n",
    "        return 'Rock'\n",
    "    elif choice == 1:\n",
    "        return 'Paper'\n",
    "    else:\n",
    "        return 'Scissors'\n",
    "\n",
    "def find_winner(user, qc):\n",
    "    if user == qc:\n",
    "        return 'TIE'\n",
    "    elif (user == 0 and qc == 2) or (user == 1 and qc == 0) or (user == 2 and qc == 1):\n",
    "        return 'YOU WIN'\n",
    "    else:\n",
    "        return 'YOU LOSE'\n",
    "\n",
    "# input user choice\n",
    "user_choice = -1\n",
    "\n",
    "while user_choice == -1:\n",
    "    user_input = input('Enter choice (rock, paper, scissors): ').lower()\n",
    "    \n",
    "    if user_input == 'rock':\n",
    "        user_choice = 0\n",
    "    elif user_input == 'paper':\n",
    "        user_choice = 1\n",
    "    elif user_input == 'scissors':\n",
    "        user_choice = 2\n",
    "\n",
    "# find and dispaly result\n",
    "qc_choice = qc_shot()\n",
    "print()\n",
    "print(f\"You chose: {map_choice(user_choice)}\")\n",
    "print(f\"Quantum computer chose: {map_choice(qc_choice)}\")\n",
    "print()\n",
    "print(find_winner(user_choice, qc_choice))"
   ]
  },
  {
   "cell_type": "code",
   "execution_count": 112,
   "id": "75e8822a-e653-4f17-b6cc-b7f92ea7ce9b",
   "metadata": {},
   "outputs": [
    {
     "data": {
      "text/plain": [
       "<function matplotlib.pyplot.show(close=None, block=None)>"
      ]
     },
     "execution_count": 112,
     "metadata": {},
     "output_type": "execute_result"
    },
    {
     "data": {
      "image/png": "[encoded data removed]",
      "text/plain": [
       "<Figure size 640x480 with 1 Axes>"
      ]
     },
     "metadata": {},
     "output_type": "display_data"
    }
   ],
   "source": [
    "user_choice = 0\n",
    "W, T, L = 0, 0, 0\n",
    "results = []\n",
    "\n",
    "for _ in range(100):\n",
    "    qc_choice = qc_shot()\n",
    "    if find_winner(user_choice, qc_choice) == 'YOU WIN':\n",
    "        W+=1\n",
    "    elif find_winner(user_choice, qc_choice) == 'TIE':\n",
    "        T+=1\n",
    "    else:\n",
    "        L+=1\n",
    "\n",
    "results.append((W, T, L))\n",
    "\n",
    "# generate plot data\n",
    "labels = ['WIN', 'TIE', 'LOSE']\n",
    "WIN, TIE, LOSE = results[-1]\n",
    "counts = (WIN, TIE, LOSE)\n",
    "\n",
    "# generate plot\n",
    "plt.bar(labels, counts, color=['green', 'grey', 'red'])\n",
    "plt.title('Result of Rock Paper Scissors')\n",
    "plt.xlabel('User Outcome')\n",
    "plt.ylabel('Count')\n",
    "plt.show"
   ]
  },
  {
   "cell_type": "code",
   "execution_count": null,
   "id": "1d6e5c05-96ff-46e9-9d03-ee2fe7ef0231",
   "metadata": {},
   "outputs": [],
   "source": []
  }
 ],
 "metadata": {
  "kernelspec": {
   "display_name": "Python 3 (ipykernel)",
   "language": "python",
   "name": "python3"
  },
  "language_info": {
   "codemirror_mode": {
    "name": "ipython",
    "version": 3
   },
   "file_extension": ".py",
   "mimetype": "text/x-python",
   "name": "python",
   "nbconvert_exporter": "python",
   "pygments_lexer": "ipython3",
   "version": "3.11.2"
  }
 },
 "nbformat": 4,
 "nbformat_minor": 5
}
